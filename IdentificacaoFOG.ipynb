{
  "nbformat": 4,
  "nbformat_minor": 0,
  "metadata": {
    "colab": {
      "provenance": []
    },
    "kernelspec": {
      "name": "python3",
      "display_name": "Python 3"
    },
    "language_info": {
      "name": "python"
    }
  },
  "cells": [
    {
      "cell_type": "markdown",
      "source": [
        "### Objetivo Algoritmo\n",
        "Desenvolver um modelo para detectar e prever episódios de FOG de Parkinson. Esses episódios serão previstos com base em dados de séries temporais registrados para cada paciente durante a execução de um protocolo específico, além de algumas características fornecidas do paciente."
      ],
      "metadata": {
        "id": "JcpqGDP5U0dB"
      }
    },
    {
      "cell_type": "code",
      "execution_count": 1,
      "metadata": {
        "colab": {
          "base_uri": "https://localhost:8080/"
        },
        "id": "fITZusdvUxHc",
        "outputId": "e5f338c4-d4b3-4797-b87d-3c69a295d08f"
      },
      "outputs": [
        {
          "output_type": "stream",
          "name": "stdout",
          "text": [
            "Mounted at /content/drive\n"
          ]
        }
      ],
      "source": [
        "from google.colab import drive\n",
        "drive.mount('/content/drive')"
      ]
    },
    {
      "cell_type": "code",
      "source": [
        "import itertools\n",
        "import numpy as np\n",
        "import pandas as pd\n",
        "import warnings\n",
        "from sklearn.metrics import accuracy_score, precision_recall_fscore_support\n",
        "import lightgbm as lgb\n",
        "from lightgbm import LGBMClassifier\n",
        "import os\n",
        "import matplotlib.pyplot as plt\n",
        "import seaborn as sns\n",
        "\n",
        "# Remover avisos para evitar poluição visual\n",
        "warnings.filterwarnings(action=\"ignore\", category=DeprecationWarning)\n",
        "warnings.filterwarnings(action=\"ignore\", category=FutureWarning)"
      ],
      "metadata": {
        "colab": {
          "base_uri": "https://localhost:8080/"
        },
        "id": "h5kd0nKvU9sa",
        "outputId": "55661da2-9bb8-49b2-e701-abe340ac75b5"
      },
      "execution_count": 2,
      "outputs": [
        {
          "output_type": "stream",
          "name": "stderr",
          "text": [
            "/usr/local/lib/python3.10/dist-packages/dask/dataframe/__init__.py:42: FutureWarning: \n",
            "Dask dataframe query planning is disabled because dask-expr is not installed.\n",
            "\n",
            "You can install it with `pip install dask[dataframe]` or `conda install dask`.\n",
            "This will raise in a future version.\n",
            "\n",
            "  warnings.warn(msg, FutureWarning)\n"
          ]
        }
      ]
    },
    {
      "cell_type": "code",
      "source": [
        "from joblib import dump, load\n",
        "\n",
        "# Parâmetros otimizados\n",
        "WINDOW_SIZE = 200\n",
        "SAMPLE_FRAC = 1\n",
        "CALC_TYPE = 'momentos'\n",
        "\n",
        "# Função para carregar e processar dados\n",
        "def load_and_preprocess_data(path, sample_frac=None):\n",
        "    if os.path.isdir(path):\n",
        "        data_list = []\n",
        "        for file_name in os.listdir(path):\n",
        "            if file_name.endswith('.csv'):\n",
        "                file_path = os.path.join(path, file_name)\n",
        "                df = pd.read_csv(file_path)\n",
        "                df['file_name'] = file_name.replace('.csv', '')\n",
        "                df['IsFOG'] = df[['StartHesitation', 'Walking', 'Turn']].any(axis='columns').astype(int)\n",
        "                data_list.append(df)\n",
        "        # Concatenar todos os DataFrames em um único DataFrame\n",
        "        full_data = pd.concat(data_list, ignore_index=True)\n",
        "    else:\n",
        "        # Carregar diretamente se for um único arquivo\n",
        "        full_data = pd.read_csv(path)\n",
        "        full_data['file_name'] = os.path.basename(path).replace('.csv', '')\n",
        "        full_data['IsFOG'] = full_data[['StartHesitation', 'Walking', 'Turn']].any(axis='columns').astype(int)\n",
        "\n",
        "    if sample_frac:\n",
        "        # Amostragem sequencial dos dados\n",
        "        n_samples = int(len(full_data) * sample_frac)\n",
        "        full_data = full_data.iloc[:n_samples]\n",
        "\n",
        "    return full_data\n",
        "\n",
        "# Função para adicionar características de janela móvel com cálculo de momentos\n",
        "def add_rolling_window_features(data, window_size):\n",
        "    feature_columns = ['AccV', 'AccML', 'AccAP']\n",
        "    for axis in feature_columns:\n",
        "        data[f'{axis}_rolling_kurtosis'] = data[axis].rolling(window=window_size, min_periods=1).kurt()\n",
        "        data[f'{axis}_rolling_skewness'] = data[axis].rolling(window=window_size, min_periods=1).skew()\n",
        "        data[f'{axis}_rolling_var'] = data[axis].rolling(window=window_size, min_periods=1).var()\n",
        "        data[f'{axis}_rolling_mean'] = data[axis].rolling(window=window_size, min_periods=1).mean()\n",
        "\n",
        "    data.dropna(inplace=True)\n",
        "    return data\n",
        "\n",
        "# Função para treinar e usar o modelo com as configurações otimizadas\n",
        "def run_model():\n",
        "    # Carregar e processar os dados de treino\n",
        "    train_data = load_and_preprocess_data('/content/drive/MyDrive/UFOP/trabalhoAnalise/train', sample_frac=SAMPLE_FRAC)\n",
        "    train_data = add_rolling_window_features(train_data, WINDOW_SIZE)\n",
        "\n",
        "    # Seleção de Features e Labels\n",
        "    features = ['Time', 'AccV', 'AccML', 'AccAP',\n",
        "                'AccV_rolling_kurtosis', 'AccV_rolling_skewness', 'AccV_rolling_var', 'AccV_rolling_mean',\n",
        "                'AccML_rolling_kurtosis', 'AccML_rolling_skewness', 'AccML_rolling_var', 'AccML_rolling_mean',\n",
        "                'AccAP_rolling_kurtosis', 'AccAP_rolling_skewness', 'AccAP_rolling_var', 'AccAP_rolling_mean']\n",
        "\n",
        "    train_features = train_data[features]\n",
        "    train_labels = train_data['IsFOG']\n",
        "\n",
        "    # Definindo e treinando o modelo\n",
        "    model = LGBMClassifier(\n",
        "        n_estimators=100,\n",
        "        num_leaves=30,\n",
        "        max_depth=10,\n",
        "        learning_rate=0.1,\n",
        "        is_unbalance=True,\n",
        "        objective='binary'\n",
        "    )\n",
        "    model.fit(train_features, train_labels)\n",
        "    # Salvando o modelo treinado\n",
        "    dump(model, '/content/drive/MyDrive/UFOP/trabalhoAnalise/model_fog_detection.joblib')\n",
        "\n",
        "    # Carregar e processar os dados de teste\n",
        "    test_data = load_and_preprocess_data('/content/drive/MyDrive/UFOP/trabalhoAnalise/test')\n",
        "    test_data = add_rolling_window_features(test_data, WINDOW_SIZE)\n",
        "    test_features = test_data[features]\n",
        "    test_labels = test_data['IsFOG']\n",
        "\n",
        "    # Realizar previsões no conjunto de teste\n",
        "    y_pred_test = model.predict(test_features)\n",
        "\n",
        "    # Calculando métricas do modelo\n",
        "    accuracy = accuracy_score(test_labels, y_pred_test)\n",
        "    precision, recall, f1, _ = precision_recall_fscore_support(test_labels, y_pred_test, average='binary')\n",
        "\n",
        "    # Exibir resultados\n",
        "    print(f'Accuracy: {accuracy}')\n",
        "    print(f'Precision: {precision}')\n",
        "    print(f'Recall: {recall}')\n",
        "    print(f'F1 Score: {f1}')\n",
        "\n",
        "# Executar o modelo com a configuração otimizada\n",
        "run_model()\n"
      ],
      "metadata": {
        "colab": {
          "base_uri": "https://localhost:8080/"
        },
        "id": "0lwVL8hdVANq",
        "outputId": "07ce7d14-c66b-4b6e-9775-9240d981d754"
      },
      "execution_count": 6,
      "outputs": [
        {
          "output_type": "stream",
          "name": "stdout",
          "text": [
            "[LightGBM] [Info] Number of positive: 1807501, number of negative: 3904206\n",
            "[LightGBM] [Info] Auto-choosing row-wise multi-threading, the overhead of testing was 0.313042 seconds.\n",
            "You can set `force_row_wise=true` to remove the overhead.\n",
            "And if memory is not enough, you can set `force_col_wise=true`.\n",
            "[LightGBM] [Info] Total Bins 4080\n",
            "[LightGBM] [Info] Number of data points in the train set: 5711707, number of used features: 16\n",
            "[LightGBM] [Info] [binary:BoostFromScore]: pavg=0.316455 -> initscore=-0.770109\n",
            "[LightGBM] [Info] Start training from score -0.770109\n",
            "Accuracy: 0.8564593583620969\n",
            "Precision: 0.7168318874130443\n",
            "Recall: 0.8146279456850452\n",
            "F1 Score: 0.7626073831313079\n"
          ]
        }
      ]
    },
    {
      "cell_type": "code",
      "source": [
        "def use_model_with_new_data(new_data_path, output_csv_path):\n",
        "    # Carregar o modelo salvo\n",
        "    model = load('/content/drive/MyDrive/UFOP/trabalhoAnalise/model_fog_detection.joblib')\n",
        "\n",
        "    # Carregar e processar os novos dados\n",
        "    new_data = load_and_preprocess_data(new_data_path)\n",
        "    new_data = add_rolling_window_features(new_data, WINDOW_SIZE)\n",
        "\n",
        "    # Seleção de Features\n",
        "    features = ['Time', 'AccV', 'AccML', 'AccAP',\n",
        "                'AccV_rolling_kurtosis', 'AccV_rolling_skewness', 'AccV_rolling_var', 'AccV_rolling_mean',\n",
        "                'AccML_rolling_kurtosis', 'AccML_rolling_skewness', 'AccML_rolling_var', 'AccML_rolling_mean',\n",
        "                'AccAP_rolling_kurtosis', 'AccAP_rolling_skewness', 'AccAP_rolling_var', 'AccAP_rolling_mean']\n",
        "\n",
        "    new_features = new_data[features]\n",
        "\n",
        "    # Fazer previsões nos novos dados\n",
        "    y_pred_new = model.predict(new_features)\n",
        "\n",
        "    # Adicionar as previsões ao DataFrame\n",
        "    new_data['IsFOG_pred'] = y_pred_new\n",
        "\n",
        "    # Exibir alguns resultados (opcional)\n",
        "    print(new_data[['Time', 'AccV', 'AccML', 'AccAP', 'IsFOG_pred']].head())  # Mostrando as primeiras previsões\n",
        "\n",
        "    # Salvar o DataFrame em um arquivo CSV\n",
        "    new_data.to_csv(output_csv_path, index=False)  # Salva o arquivo sem o índice\n",
        "\n",
        "    print(f\"Resultados salvos em: {output_csv_path}\")\n",
        "\n",
        "    return new_data  # Retornando os dados com as previsões para uso posterior\n",
        "\n",
        "# Caminho dos novos dados e do CSV de saída\n",
        "new_data_path = '/content/drive/MyDrive/UFOP/trabalhoAnalise/test/2d481ad987.csv'\n",
        "output_csv_path = '/content/drive/MyDrive/UFOP/trabalhoAnalise/predictions_output.csv'\n",
        "\n",
        "# Fazer previsões nos novos dados e salvar em CSV\n",
        "result = use_model_with_new_data(new_data_path, output_csv_path)\n"
      ],
      "metadata": {
        "colab": {
          "base_uri": "https://localhost:8080/"
        },
        "id": "JkN-yvp3egAk",
        "outputId": "673c41ac-eb5f-41b2-9c84-94a7c1f447ca"
      },
      "execution_count": 8,
      "outputs": [
        {
          "output_type": "stream",
          "name": "stdout",
          "text": [
            "   Time       AccV     AccML     AccAP  IsFOG_pred\n",
            "3     3  -9.690020  0.811827 -2.256484           0\n",
            "4     4  -9.679607  0.875916 -2.343682           0\n",
            "5     5  -9.729980  0.987272 -2.577944           0\n",
            "6     6  -9.866057  0.923549 -2.725240           0\n",
            "7     7 -10.077593  0.940298 -2.692860           0\n",
            "Resultados salvos em: /content/drive/MyDrive/UFOP/trabalhoAnalise/predictions_output.csv\n"
          ]
        }
      ]
    }
  ]
}